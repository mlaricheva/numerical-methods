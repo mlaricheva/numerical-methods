{
 "cells": [
  {
   "cell_type": "code",
   "execution_count": 39,
   "metadata": {},
   "outputs": [],
   "source": [
    "import numpy as np\n",
    "import math \n",
    "import matplotlib.pyplot as plt\n",
    "%matplotlib notebook"
   ]
  },
  {
   "cell_type": "markdown",
   "metadata": {},
   "source": [
    "# Ларичева Мария БПМ-161\n",
    "## Лабораторная работа 6. Вариант 12"
   ]
  },
  {
   "cell_type": "markdown",
   "metadata": {},
   "source": [
    "### **Задача 6.1**"
   ]
  },
  {
   "cell_type": "markdown",
   "metadata": {},
   "source": [
    "Вычислить значение интеграла $\\int_{1}^{1.44} P_n(x)dx$, где $P_n(x) = \\sum_{i=0}^{n}c_ix^i$ с помощью квадратурных формул трапеций и Симпсона для элементарного отрезка интегрирования. Оценить величину погрешности. Применяя те же квадратурные формулы для составного отрезка интегрирования, вычислить интеграл с точностью до 0.0001. Предварительно оценить шаг интегрирования, при котором достигается заданная точность. "
   ]
  },
  {
   "cell_type": "markdown",
   "metadata": {},
   "source": [
    "Зададим функцию $P_n(x)$:"
   ]
  },
  {
   "cell_type": "code",
   "execution_count": 100,
   "metadata": {},
   "outputs": [],
   "source": [
    "def Pn(x):\n",
    "    return (5.3 - 1.2*x - 1.5*x**2 + 1.3*x**3 - 7.1*x**4)"
   ]
  },
  {
   "cell_type": "markdown",
   "metadata": {},
   "source": [
    "Вычислим значение интеграла аналитически"
   ]
  },
  {
   "cell_type": "code",
   "execution_count": 104,
   "metadata": {},
   "outputs": [
    {
     "name": "stdout",
     "output_type": "stream",
     "text": [
      "-5.604977207807997\n",
      "6.222774748607659e-14\n"
     ]
    }
   ],
   "source": [
    "import scipy.integrate as integrate\n",
    "ans, err = integrate.quad(Pn, 1, 1.44)\n",
    "print(ans)\n",
    "print(err)"
   ]
  },
  {
   "cell_type": "markdown",
   "metadata": {},
   "source": [
    "Вычислим методом трапеций и посчитаем отн погрешность"
   ]
  },
  {
   "cell_type": "code",
   "execution_count": 105,
   "metadata": {},
   "outputs": [],
   "source": [
    "def trapec(Pn, x1, x2, n):\n",
    "    h = abs(x1-x2)/n\n",
    "    x = []\n",
    "    for i in range(n+1):\n",
    "        x.append(x1+i*h)\n",
    "    f = []\n",
    "    for j in range(1,n):\n",
    "        f.append(2*Pn(x[j]))\n",
    "    return h/2*(Pn(x1)+sum(f) + Pn(x2))"
   ]
  },
  {
   "cell_type": "code",
   "execution_count": 106,
   "metadata": {},
   "outputs": [
    {
     "name": "stdout",
     "output_type": "stream",
     "text": [
      "-5.605063577416671\n",
      "8.636960867391963e-05\n"
     ]
    }
   ],
   "source": [
    "ans1 = trapec(Pn, 1, 1.44, 100)\n",
    "err1 = ans-ans1\n",
    "print(ans1)\n",
    "print(err1)"
   ]
  },
  {
   "cell_type": "markdown",
   "metadata": {},
   "source": [
    "Вычислим методом Симпсона  и посчитаем отн погрешность"
   ]
  },
  {
   "cell_type": "code",
   "execution_count": 27,
   "metadata": {},
   "outputs": [],
   "source": [
    "def Simpson(Pn, x1, x2, n):\n",
    "    h = abs(x1-x2)/(2*n)\n",
    "    x = []\n",
    "    for i in range(2*n+1):\n",
    "        x.append(x1+i*h)\n",
    "    f = []\n",
    "    for j in range(1,n+1):\n",
    "        f.append(4*Pn(x[2*j-1]))\n",
    "        if not (j == n):\n",
    "            f.append(2*Pn(x[2*j]))\n",
    "    return h/3*(Pn(x1)+sum(f)+Pn(x2))"
   ]
  },
  {
   "cell_type": "code",
   "execution_count": 30,
   "metadata": {},
   "outputs": [
    {
     "name": "stdout",
     "output_type": "stream",
     "text": [
      "-5.604977207817757\n",
      "9.759304475664976e-12\n"
     ]
    }
   ],
   "source": [
    "ans2 = Simpson(Pn, 1, 1.44, 100)\n",
    "err2 = ans-ans2\n",
    "print(ans2)\n",
    "print(err2)"
   ]
  },
  {
   "cell_type": "markdown",
   "metadata": {},
   "source": [
    "Используя выражение для остаточных членов интегрирования, оценим шаги, при которых величина погрешности каждой квадратурной формы будет меньше 0.0001"
   ]
  },
  {
   "cell_type": "markdown",
   "metadata": {},
   "source": [
    "Остаточный член для метода трапеций задается формулой: $R = \\frac{M_2(b-a)h^2}{12}$, где $M_2$ -  макс значение второй  производной многочлена. "
   ]
  },
  {
   "cell_type": "code",
   "execution_count": 69,
   "metadata": {},
   "outputs": [],
   "source": [
    "def M2(x):\n",
    "    return (-3 + 1.3*6*x - 7.1*12*x**2)"
   ]
  },
  {
   "cell_type": "markdown",
   "metadata": {},
   "source": [
    "Наложим ограничения на шаг $h^2 < \\frac{0.0001*12}{M_2*(b-a)}$, то есть $h < \\sqrt{\\frac{0.0001*12}{M_2*(b-a)}}$ (так как h>0 по определению)"
   ]
  },
  {
   "cell_type": "code",
   "execution_count": 118,
   "metadata": {},
   "outputs": [
    {
     "name": "stdout",
     "output_type": "stream",
     "text": [
      "0.002562638767127989\n"
     ]
    }
   ],
   "source": [
    "from scipy import optimize\n",
    "h1 = math.sqrt(0.0001*12/(abs(M2(optimize.fminbound(lambda x: -M2(x), 1, 1.44))))*(1.44-1))\n",
    "print(h1)"
   ]
  },
  {
   "cell_type": "code",
   "execution_count": 119,
   "metadata": {},
   "outputs": [
    {
     "name": "stdout",
     "output_type": "stream",
     "text": [
      "171.69801910595405\n"
     ]
    }
   ],
   "source": [
    "n1 = 0.44/h1\n",
    "print(n1)"
   ]
  },
  {
   "cell_type": "code",
   "execution_count": 129,
   "metadata": {},
   "outputs": [
    {
     "name": "stdout",
     "output_type": "stream",
     "text": [
      "-5.605006402519501\n",
      "2.91947115034219e-05\n"
     ]
    }
   ],
   "source": [
    "ans11 = trapec(Pn, 1, 1.44, 172)\n",
    "err11 = ans-ans11\n",
    "print(ans11)\n",
    "print(err11)"
   ]
  },
  {
   "cell_type": "markdown",
   "metadata": {},
   "source": [
    "Остаточный член для метода Симпсона задается формулой: $R = \\frac{M_4(b-a)h^4}{2880}$, где $M_4$ -  макс значение четвертой производной многочлена. "
   ]
  },
  {
   "cell_type": "code",
   "execution_count": 125,
   "metadata": {},
   "outputs": [
    {
     "name": "stdout",
     "output_type": "stream",
     "text": [
      "0.16513681095693805\n"
     ]
    }
   ],
   "source": [
    "M4 = 7.1*12*2\n",
    "h2 = math.sqrt(math.sqrt(0.0001*2880/M4*(1.44-1)))\n",
    "print(h2)"
   ]
  },
  {
   "cell_type": "code",
   "execution_count": 126,
   "metadata": {},
   "outputs": [
    {
     "name": "stdout",
     "output_type": "stream",
     "text": [
      "2.6644574123133378\n"
     ]
    }
   ],
   "source": [
    "n2 = 0.44/h2\n",
    "print(n2)"
   ]
  },
  {
   "cell_type": "code",
   "execution_count": 128,
   "metadata": {},
   "outputs": [
    {
     "name": "stdout",
     "output_type": "stream",
     "text": [
      "-5.604989254157693\n",
      "1.2046349695538083e-05\n"
     ]
    }
   ],
   "source": [
    "ans22 = Simpson(Pn, 1, 1.44, 3)\n",
    "err22 = ans-ans22\n",
    "print(ans22)\n",
    "print(err22)"
   ]
  },
  {
   "cell_type": "markdown",
   "metadata": {},
   "source": [
    "### **Задача 6.4**"
   ]
  },
  {
   "cell_type": "markdown",
   "metadata": {},
   "source": [
    "Построить график функции $ F(x) = \\int_{a}^{b} f(x,t)dt, x_1\\leq{x}\\leq{x_2}$.  Для вычисления интеграла с точностью $10^{-8}$ использовать квадратурную формулу Симпсона и правило Рунге оценки погрешности"
   ]
  },
  {
   "cell_type": "markdown",
   "metadata": {},
   "source": [
    "Зададим функцию и параметры"
   ]
  },
  {
   "cell_type": "code",
   "execution_count": 137,
   "metadata": {},
   "outputs": [],
   "source": [
    "def ft(x):\n",
    "    def f(t):\n",
    "        return (t* math.sin(x*t**2))\n",
    "    return f"
   ]
  },
  {
   "cell_type": "code",
   "execution_count": 138,
   "metadata": {},
   "outputs": [],
   "source": [
    "a = -2\n",
    "b = 0\n",
    "x1 = 0\n",
    "x2 = 3"
   ]
  },
  {
   "cell_type": "markdown",
   "metadata": {},
   "source": [
    "Вычислим интеграл по формуле Симпсона для какого-то фиксированного значения $x$ (например, на середине отрезка), возьмем в качестве начального числа шагов $n = 10$:"
   ]
  },
  {
   "cell_type": "code",
   "execution_count": 149,
   "metadata": {},
   "outputs": [],
   "source": [
    "n = 10\n",
    "I_n = Simpson(ft((x1+x2)/2), a,b,n)"
   ]
  },
  {
   "cell_type": "markdown",
   "metadata": {},
   "source": [
    "По формуле Рунге оценим погрешность как $\\Delta_{2n} = \\frac{1}{15}|I_{2n} - I_n|$"
   ]
  },
  {
   "cell_type": "code",
   "execution_count": 154,
   "metadata": {},
   "outputs": [
    {
     "name": "stdout",
     "output_type": "stream",
     "text": [
      "False\n"
     ]
    }
   ],
   "source": [
    "I_2n = Simpson(ft((x1+x2)/2), a,b,2*n)\n",
    "delta = (1/15)*abs(I_2n-I_n)\n",
    "print(delta<10e-8)"
   ]
  },
  {
   "cell_type": "code",
   "execution_count": 155,
   "metadata": {},
   "outputs": [
    {
     "name": "stdout",
     "output_type": "stream",
     "text": [
      "False\n"
     ]
    }
   ],
   "source": [
    "I_4n = Simpson(ft((x1+x2)/2), a,b,4*n)\n",
    "delta = (1/15)*abs(I_4n-I_2n)\n",
    "print(delta<10e-8)"
   ]
  },
  {
   "cell_type": "code",
   "execution_count": 156,
   "metadata": {},
   "outputs": [
    {
     "name": "stdout",
     "output_type": "stream",
     "text": [
      "True\n"
     ]
    }
   ],
   "source": [
    "I_8n = Simpson(ft((x1+x2)/2), a,b,8*n)\n",
    "delta = (1/15)*abs(I_8n-I_4n)\n",
    "print(delta<10e-8)"
   ]
  },
  {
   "cell_type": "markdown",
   "metadata": {},
   "source": [
    "Получили, что для $n_0 = 4n$ выполняется условие Рунге, поэтому в дальнейшем будем брать число шагов, равное 40"
   ]
  },
  {
   "cell_type": "code",
   "execution_count": 159,
   "metadata": {},
   "outputs": [],
   "source": [
    "n0 = 40\n",
    "x = np.linspace(x1, x2, num=100)\n",
    "y = [Simpson(ft(i),a,b,n0) for i in x]"
   ]
  },
  {
   "cell_type": "code",
   "execution_count": 174,
   "metadata": {},
   "outputs": [
    {
     "data": {
      "text/plain": [
       "[Text(0, 0.5, 'F(x)'), Text(0.5, 0, 'x')]"
      ]
     },
     "execution_count": 174,
     "metadata": {},
     "output_type": "execute_result"
    },
    {
     "data": {
      "image/png": "[encoded data removed]",
      "text/plain": [
       "<Figure size 720x504 with 1 Axes>"
      ]
     },
     "metadata": {
      "needs_background": "light"
     },
     "output_type": "display_data"
    }
   ],
   "source": [
    "fig1,ax1 = plt.subplots(figsize = (10,7))\n",
    "plt1 = ax1.plot(x,y)\n",
    "ax1.set(xlabel='x', ylabel='F(x)',)"
   ]
  },
  {
   "cell_type": "markdown",
   "metadata": {},
   "source": [
    "### **Задача 6.8**"
   ]
  },
  {
   "cell_type": "markdown",
   "metadata": {},
   "source": [
    "Используя квадратурную формулу Симпсона, вычислить двойной интеграл $\\int_{a}^{b}\\int_{c}^{d}f(x,y)dxdy $ от функции двух переменных $f(x,y)$ по прямоугольной области $D = \\{(x,y), x\\in{[a,b]}, y\\in{[c,d]}\\}$ с точностью 0.001."
   ]
  },
  {
   "cell_type": "markdown",
   "metadata": {},
   "source": [
    "Зададим переменные и саму функцию"
   ]
  },
  {
   "cell_type": "code",
   "execution_count": 177,
   "metadata": {},
   "outputs": [],
   "source": [
    "a,b = 0,1.5\n",
    "c,d = 0,3"
   ]
  },
  {
   "cell_type": "code",
   "execution_count": 181,
   "metadata": {},
   "outputs": [],
   "source": [
    "def fx(y):\n",
    "    def f(x):\n",
    "        return (x* math.sin(x*y**2))\n",
    "    return f"
   ]
  },
  {
   "cell_type": "markdown",
   "metadata": {},
   "source": [
    "До этого мы уже подсчитали, что для точности 0.001 достаточно $n = 3$ шагов. Обозначим внутреннюю функцию за $F(y)$"
   ]
  },
  {
   "cell_type": "code",
   "execution_count": 196,
   "metadata": {},
   "outputs": [],
   "source": [
    "def F(y):\n",
    "    z = fx(y)\n",
    "    x1 = c\n",
    "    x2 = d\n",
    "    def Simpson(z, x1, x2, n=3):\n",
    "        h = abs(x1-x2)/(2*n)\n",
    "        x = []\n",
    "        for i in range(2*n+1):\n",
    "            x.append(x1+i*h)\n",
    "        f = []\n",
    "        for j in range(1,n+1):\n",
    "            f.append(4*z(x[2*j-1]))\n",
    "            if not (j == n):\n",
    "                f.append(2*z(x[2*j]))\n",
    "        return h/3*(z(x1)+sum(f)+z(x2))\n",
    "    return Simpson(fx(y), c, d, n=3)"
   ]
  },
  {
   "cell_type": "markdown",
   "metadata": {},
   "source": [
    "Затем посчитаем внешний интеграл, в качестве внутренней функции взяв $F(y)$"
   ]
  },
  {
   "cell_type": "code",
   "execution_count": 197,
   "metadata": {},
   "outputs": [
    {
     "name": "stdout",
     "output_type": "stream",
     "text": [
      "2.100378259855151\n"
     ]
    }
   ],
   "source": [
    "I = Simpson(F, a, b, n=3)\n",
    "print(I)"
   ]
  },
  {
   "cell_type": "markdown",
   "metadata": {},
   "source": [
    "### **Задача 6.6**"
   ]
  },
  {
   "cell_type": "markdown",
   "metadata": {},
   "source": [
    "Вычислить значение интеграла из задачи 6.1, используя квадратурную формулу Гаусса с одним, двумя, тремя, четырьмя узлами. Определить абсолютную погрешность результата. Построить гистограмму зависимости погрешности от числа узлов. Убедиться, что квадратурные формулы Гаусса с N+1 (N = 0,1,2,3) узлов точны для многочленов $1,t,...,t^m$, где m = 2N+1"
   ]
  },
  {
   "cell_type": "code",
   "execution_count": 254,
   "metadata": {},
   "outputs": [],
   "source": [
    "def Gauss(Pn,a,b,t,A,N):\n",
    "    l = []\n",
    "    for i in range(0,N+1):\n",
    "        l.append(A[i]*Pn((a+b)/2+(b-a)*t[i]/2))\n",
    "    return (b-a)/2*sum(l)"
   ]
  },
  {
   "cell_type": "markdown",
   "metadata": {},
   "source": [
    "Зададим значения узлов и весов квадратурной формулы Гаусса"
   ]
  },
  {
   "cell_type": "code",
   "execution_count": 199,
   "metadata": {},
   "outputs": [],
   "source": [
    "t_list = [[0], [-0.577350269189626, 0.577350269189626], \n",
    "          [-0.77459666929954,0,0.77459666929954], \n",
    "          [-0.861136311594052, -0.339981043584856, 0.339981043584856, 0.861136311594052]]"
   ]
  },
  {
   "cell_type": "code",
   "execution_count": 201,
   "metadata": {},
   "outputs": [],
   "source": [
    "A_list = [[2], [1,1], [0.55555555555556, 0.88888888888888, 0.55555555555556],\n",
    "         [0.347854845137454,0.652145154862546,0.652145154862546,0.347854845137454]]"
   ]
  },
  {
   "cell_type": "code",
   "execution_count": 255,
   "metadata": {},
   "outputs": [
    {
     "name": "stdout",
     "output_type": "stream",
     "text": [
      "[6.86785620165266, 7.295638797137104, 7.296289300085107, 7.29628930002066]\n"
     ]
    }
   ],
   "source": [
    "errors = []\n",
    "for j in range(len(t_list)):\n",
    "    I = Gauss(Pn,1,1.44,t_list[j], A_list[j],j)\n",
    "    er = ans - I\n",
    "    errors.append(er)\n",
    "print(errors)"
   ]
  },
  {
   "cell_type": "markdown",
   "metadata": {},
   "source": [
    "Построим гистограмму"
   ]
  },
  {
   "cell_type": "code",
   "execution_count": 242,
   "metadata": {},
   "outputs": [
    {
     "data": {
      "text/plain": [
       "<BarContainer object of 4 artists>"
      ]
     },
     "execution_count": 242,
     "metadata": {},
     "output_type": "execute_result"
    },
    {
     "data": {
      "image/png": "[encoded data removed]",
      "text/plain": [
       "<Figure size 432x288 with 1 Axes>"
      ]
     },
     "metadata": {
      "needs_background": "light"
     },
     "output_type": "display_data"
    }
   ],
   "source": [
    "plt.bar([1,2,3,4],[-0.42843309836800003, -0.0006505028835555038, 6.444711431186079e-11, 0.0])"
   ]
  },
  {
   "cell_type": "markdown",
   "metadata": {},
   "source": [
    "Убедимся, что эти квадратурные формулы верны для многочленой типа $1, t, ..., t^m$"
   ]
  },
  {
   "cell_type": "code",
   "execution_count": 246,
   "metadata": {},
   "outputs": [
    {
     "name": "stdout",
     "output_type": "stream",
     "text": [
      "[[0], [0, 1, 2], [0, 1, 2, 3, 4], [0, 1, 2, 3, 4, 5, 6]]\n"
     ]
    }
   ],
   "source": [
    "N_list = [0,1,2,3]\n",
    "m_list = []\n",
    "for i in N_list:\n",
    "    l = []\n",
    "    for j in range(2*i+1):\n",
    "        l.append(j)\n",
    "    m_list.append(l)\n",
    "print(m_list)"
   ]
  },
  {
   "cell_type": "code",
   "execution_count": 247,
   "metadata": {},
   "outputs": [],
   "source": [
    "def polm(m):\n",
    "    def pol(t):\n",
    "        return t**m\n",
    "    return pol"
   ]
  },
  {
   "cell_type": "code",
   "execution_count": 257,
   "metadata": {},
   "outputs": [
    {
     "name": "stdout",
     "output_type": "stream",
     "text": [
      "0.0\n",
      "0.0\n",
      "0.0\n",
      "0.0\n",
      "0.0\n",
      "0.0\n",
      "1.0641487691032125e-12\n",
      "3.894773392687512e-12\n",
      "9.565015446355574e-12\n",
      "0.0\n",
      "0.0\n",
      "0.0\n",
      "-1.1102230246251565e-16\n",
      "0.0\n",
      "0.0\n",
      "0.0\n"
     ]
    }
   ],
   "source": [
    "for i in range(len(N_list)):\n",
    "    for j in m_list[i]:\n",
    "        ans, err = integrate.quad(polm(m_list[i][j]), 1, 1.44)\n",
    "        an = Gauss(polm(m_list[i][j]),1,1.44,t_list[i], A_list[i],i)\n",
    "        print(an-ans)"
   ]
  },
  {
   "cell_type": "markdown",
   "metadata": {},
   "source": [
    "Везде или ноль, или почти ноль (может влиять погрешность интеграла, выч аналитичеки), поэтому формулы верны"
   ]
  },
  {
   "cell_type": "markdown",
   "metadata": {},
   "source": [
    "### **Задача 6.9**"
   ]
  },
  {
   "cell_type": "markdown",
   "metadata": {},
   "source": [
    "Для интегрального уравнения $y(x) - \\lambda\\int_{a}^{b}k(x,t)y(t)dt = f(x)$ составить таблицу значений решения с тремя верными значащими цифрами с постоянным шагом $h = \\frac{b-a}{10}$, используя формулу левых прямоугольников. Построить график решения."
   ]
  },
  {
   "cell_type": "markdown",
   "metadata": {},
   "source": [
    "Задаим функции"
   ]
  },
  {
   "cell_type": "code",
   "execution_count": 277,
   "metadata": {},
   "outputs": [],
   "source": [
    "def k(x,t):\n",
    "    return math.tan(x/(1+t))"
   ]
  },
  {
   "cell_type": "code",
   "execution_count": 284,
   "metadata": {},
   "outputs": [],
   "source": [
    "def func(x):\n",
    "    return (math.log(1+x))"
   ]
  },
  {
   "cell_type": "code",
   "execution_count": 272,
   "metadata": {},
   "outputs": [],
   "source": [
    "lbd = -0.1\n",
    "a = 0\n",
    "b = 1\n",
    "n = 10"
   ]
  },
  {
   "cell_type": "markdown",
   "metadata": {},
   "source": [
    "Заменим интегральное выражение на сумму, используя квадратурную формулу. Получим систему линейных уравнений, будем брать разные значения х и в них решать ее"
   ]
  },
  {
   "cell_type": "code",
   "execution_count": 288,
   "metadata": {},
   "outputs": [
    {
     "name": "stdout",
     "output_type": "stream",
     "text": [
      "[0.         0.11111111 0.22222222 0.33333333 0.44444444 0.55555556\n",
      " 0.66666667 0.77777778 0.88888889 1.        ]\n"
     ]
    }
   ],
   "source": [
    "x = np.linspace(a,b,n)\n",
    "print(x)"
   ]
  },
  {
   "cell_type": "code",
   "execution_count": 289,
   "metadata": {},
   "outputs": [],
   "source": [
    "f = [func(i) for i in x]\n",
    "A = np.zeros((len(x),len(x)))\n",
    "for j in range(n):\n",
    "    for i in range(n):\n",
    "        A[j,i] = k(t[j],t[i])*(-lbd)*(b-a)/10\n",
    "        if j == i:\n",
    "            A[j,i] +=1\n",
    "A[:,0] *= 0.5\n",
    "A[:,-1] *= 0.5\n",
    "y = np.linalg.solve(A,f)"
   ]
  },
  {
   "cell_type": "code",
   "execution_count": 290,
   "metadata": {},
   "outputs": [
    {
     "name": "stdout",
     "output_type": "stream",
     "text": [
      "[0.         0.10285221 0.19562875 0.28005464 0.357431   0.42875867\n",
      " 0.4948179  0.55622074 0.61344487 1.33370709]\n"
     ]
    }
   ],
   "source": [
    "print(y)"
   ]
  },
  {
   "cell_type": "markdown",
   "metadata": {},
   "source": [
    "Сделаем из этого всего таблицу"
   ]
  },
  {
   "cell_type": "code",
   "execution_count": 293,
   "metadata": {},
   "outputs": [
    {
     "name": "stdout",
     "output_type": "stream",
     "text": [
      "       x      y\n",
      "0  0.000  0.000\n",
      "1  0.111  0.103\n",
      "2  0.222  0.196\n",
      "3  0.333  0.280\n",
      "4  0.444  0.357\n",
      "5  0.556  0.429\n",
      "6  0.667  0.495\n",
      "7  0.778  0.556\n",
      "8  0.889  0.613\n",
      "9  1.000  1.334\n"
     ]
    }
   ],
   "source": [
    "import pandas as pd\n",
    "x = np.around(x, decimals=3)\n",
    "y = np.around(y, decimals=3)\n",
    "df = pd.DataFrame({'x': x, 'y': y})\n",
    "print(df)"
   ]
  },
  {
   "cell_type": "markdown",
   "metadata": {},
   "source": [
    "Построим график по табличке"
   ]
  },
  {
   "cell_type": "code",
   "execution_count": 294,
   "metadata": {},
   "outputs": [
    {
     "data": {
      "image/png": "[encoded data removed]",
      "text/plain": [
       "<Figure size 720x504 with 1 Axes>"
      ]
     },
     "metadata": {
      "needs_background": "light"
     },
     "output_type": "display_data"
    }
   ],
   "source": [
    "fig3,ax3 = plt.subplots(figsize = (10,7))\n",
    "plt3 = ax3.plot(x,y)"
   ]
  },
  {
   "cell_type": "code",
   "execution_count": null,
   "metadata": {},
   "outputs": [],
   "source": []
  }
 ],
 "metadata": {
  "kernelspec": {
   "display_name": "Python 3",
   "language": "python",
   "name": "python3"
  },
  "language_info": {
   "codemirror_mode": {
    "name": "ipython",
    "version": 3
   },
   "file_extension": ".py",
   "mimetype": "text/x-python",
   "name": "python",
   "nbconvert_exporter": "python",
   "pygments_lexer": "ipython3",
   "version": "3.6.5"
  }
 },
 "nbformat": 4,
 "nbformat_minor": 2
}
