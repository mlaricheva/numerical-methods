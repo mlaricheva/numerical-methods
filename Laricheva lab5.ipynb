{
 "cells": [
  {
   "cell_type": "code",
   "execution_count": 2,
   "metadata": {},
   "outputs": [],
   "source": [
    "import numpy as np\n",
    "import math \n",
    "import matplotlib.pyplot as plt\n",
    "%matplotlib notebook"
   ]
  },
  {
   "cell_type": "markdown",
   "metadata": {},
   "source": [
    "# Ларичева Мария БПМ-161\n",
    "## Лабораторная работа 5. Вариант 12"
   ]
  },
  {
   "cell_type": "markdown",
   "metadata": {},
   "source": [
    "### **Задача 5.1**"
   ]
  },
  {
   "cell_type": "markdown",
   "metadata": {},
   "source": [
    "Функция $y=f(x)$ задана таблицей значений $y_0, y_1, ..., y_n$ в точках $x_0, x_1, ..., x_n$. Используя метод\n",
    "наименьших квадратов (МНК), найти многочлен $P_m = a_0 + a_1x + ... + a_mx^m$ наилучшего среднеквадратичного приближения оптимальной степени $m=m^*$.  За оптимальное значение $m^*$ принять ту степень многочлена, начиная с которой величина $\\sigma_m=\\sqrt{\\frac{1}{n-m}\\sum\\limits_{k=0}^n(P_m(x_k)-y_k)^2}$ стабилизируется\n",
    "или начинает возрастать."
   ]
  },
  {
   "cell_type": "markdown",
   "metadata": {},
   "source": [
    "Зададим векторы исходных данных $x$ и $y$"
   ]
  },
  {
   "cell_type": "code",
   "execution_count": 3,
   "metadata": {},
   "outputs": [
    {
     "name": "stdout",
     "output_type": "stream",
     "text": [
      "x =\n",
      " [-1.   -0.75 -0.5  -0.25  0.    0.25  0.5   0.75  1.    1.25  1.5   1.75\n",
      "  2.  ]\n",
      "y =\n",
      " [ 0.192 -0.054 -0.209 -0.429 -0.413 -0.491 -0.357 -0.434 -0.14  -0.13\n",
      "  0.142  0.288  0.876]\n"
     ]
    }
   ],
   "source": [
    "x = np.linspace(-1.0, 2.0, num=13)\n",
    "print(\"x =\\n\", x)\n",
    "y = np.array([0.192, -0.054, -0.209, -0.429, -0.413, -0.491, -0.357, -0.434, -0.140, -0.130, 0.142, 0.288, 0.876])\n",
    "print(\"y =\\n\", y)"
   ]
  },
  {
   "cell_type": "code",
   "execution_count": 4,
   "metadata": {},
   "outputs": [],
   "source": [
    "n = len(x)\n",
    "def min_sqr(x,y,n,m):\n",
    "    m = m+1\n",
    "    A = np.empty([m, m])\n",
    "    b = np.empty(m)\n",
    "    for j in range(0,m):\n",
    "        b[j] = sum([y[i]*np.power(x[i],j) for i in range(n)])\n",
    "        for k in range(0,m):\n",
    "            A[j][k] = sum([np.power(x[i],k+j) for i in range(n)])\n",
    "    a = np.linalg.solve(A, b)\n",
    "    print(a)\n",
    "    return a"
   ]
  },
  {
   "cell_type": "code",
   "execution_count": 5,
   "metadata": {},
   "outputs": [
    {
     "name": "stdout",
     "output_type": "stream",
     "text": [
      "[-0.08915385]\n",
      "[-0.18495604  0.1916044 ]\n"
     ]
    }
   ],
   "source": [
    "a0 = min_sqr(x,y,n,0)\n",
    "a1 = min_sqr(x,y,n,1)"
   ]
  },
  {
   "cell_type": "markdown",
   "metadata": {},
   "source": [
    "Посчитаем значение $\\sigma_m$ для каждого из многочленов $P_m$ и построим диаграмму"
   ]
  },
  {
   "cell_type": "code",
   "execution_count": 6,
   "metadata": {},
   "outputs": [],
   "source": [
    "def p_m(a,t):\n",
    "    return sum([a[j]*(t**j) for j in range(len(a)-1)])\n",
    "def otkl(a):\n",
    "    return math.sqrt(1/(n-(len(a)-1))*sum([ np.power((p_m(a,x[k]) - y[k]),2) for k in range (n)]))"
   ]
  },
  {
   "cell_type": "code",
   "execution_count": 7,
   "metadata": {},
   "outputs": [
    {
     "name": "stdout",
     "output_type": "stream",
     "text": [
      "[-0.08915385]\n",
      "[-0.18495604  0.1916044 ]\n",
      "[-0.44111988 -0.21825774  0.40986214]\n",
      "[-0.43026499 -0.23169714  0.38505095  0.01654079]\n",
      "[-0.42515267 -0.11333932  0.33609667 -0.12226628  0.06940354]\n",
      "[-0.46284595 -0.13808157  0.59318415 -0.14932812 -0.14709118  0.08659789]\n",
      "[-0.45252551 -0.2121385   0.51278902  0.1008642  -0.12540785 -0.08953751\n",
      "  0.0587118 ]\n",
      "[-0.44104015 -0.13361731  0.33784237 -0.17319819  0.31688667  0.02103612\n",
      " -0.22877964  0.08214041]\n",
      "[-0.45701599 -0.10682376  0.61670775 -0.43149177 -0.33192745  0.6617098\n",
      "  0.0457948  -0.33625873  0.10459979]\n",
      "[-0.4580273  -0.07052675  0.62746404 -0.71536146 -0.24661764  1.19018911\n",
      " -0.29076991 -0.56300956  0.34678391 -0.05381869]\n",
      "[-0.43366335  0.08019973 -0.2136573  -1.83345637  4.37399667  1.87303283\n",
      " -8.09034702  2.54875588  3.79195277 -2.86922551  0.56308136]\n",
      "[ -0.4579968    0.16370195   0.75977012  -3.58811372  -0.7823194\n",
      "  11.21301283  -2.21585801 -13.62365065   7.14704369   4.73563932\n",
      "  -4.44718346   0.91095731]\n",
      "[  -0.41299181   -0.89407107   -0.63493411   17.11940514   -6.2741909\n",
      "  -83.63534006   80.71808148  109.40334049 -171.48365364    8.59615271\n",
      "   89.50262662  -50.7554845     8.61106507]\n"
     ]
    }
   ],
   "source": [
    "lst_m = [i for i in range(13)]\n",
    "lst_sigm = [otkl(min_sqr(x,y,n,i)) for i in lst_m]\n",
    "#print(lst_sigm)"
   ]
  },
  {
   "cell_type": "markdown",
   "metadata": {},
   "source": [
    "Так как с номера 8 значение $\\sigma_m$ много превышает предудыщие значения, отбросим последующие значения"
   ]
  },
  {
   "cell_type": "code",
   "execution_count": 8,
   "metadata": {},
   "outputs": [
    {
     "data": {
      "text/plain": [
       "<BarContainer object of 8 artists>"
      ]
     },
     "execution_count": 8,
     "metadata": {},
     "output_type": "execute_result"
    },
    {
     "data": {
      "image/png": "[encoded data removed]",
      "text/plain": [
       "<Figure size 432x288 with 1 Axes>"
      ]
     },
     "metadata": {
      "needs_background": "light"
     },
     "output_type": "display_data"
    }
   ],
   "source": [
    "plt.bar(lst_m[:8], lst_sigm[:8], color=\"blue\")"
   ]
  },
  {
   "cell_type": "markdown",
   "metadata": {},
   "source": [
    "Величина возрастает с четвертого значения, как видно из графика выше"
   ]
  },
  {
   "cell_type": "code",
   "execution_count": 9,
   "metadata": {
    "scrolled": true
   },
   "outputs": [
    {
     "name": "stdout",
     "output_type": "stream",
     "text": [
      "[-0.08915385]\n",
      "[-0.08915385]\n",
      "[-0.08915385]\n",
      "[-0.08915385]\n",
      "[-0.08915385]\n",
      "[-0.08915385]\n",
      "[-0.08915385]\n",
      "[-0.08915385]\n",
      "[-0.08915385]\n",
      "[-0.08915385]\n",
      "[-0.08915385]\n",
      "[-0.08915385]\n",
      "[-0.08915385]\n",
      "[-0.18495604  0.1916044 ]\n",
      "[-0.18495604  0.1916044 ]\n",
      "[-0.18495604  0.1916044 ]\n",
      "[-0.18495604  0.1916044 ]\n",
      "[-0.18495604  0.1916044 ]\n",
      "[-0.18495604  0.1916044 ]\n",
      "[-0.18495604  0.1916044 ]\n",
      "[-0.18495604  0.1916044 ]\n",
      "[-0.18495604  0.1916044 ]\n",
      "[-0.18495604  0.1916044 ]\n",
      "[-0.18495604  0.1916044 ]\n",
      "[-0.18495604  0.1916044 ]\n",
      "[-0.18495604  0.1916044 ]\n",
      "[-0.44111988 -0.21825774  0.40986214]\n",
      "[-0.44111988 -0.21825774  0.40986214]\n",
      "[-0.44111988 -0.21825774  0.40986214]\n",
      "[-0.44111988 -0.21825774  0.40986214]\n",
      "[-0.44111988 -0.21825774  0.40986214]\n",
      "[-0.44111988 -0.21825774  0.40986214]\n",
      "[-0.44111988 -0.21825774  0.40986214]\n",
      "[-0.44111988 -0.21825774  0.40986214]\n",
      "[-0.44111988 -0.21825774  0.40986214]\n",
      "[-0.44111988 -0.21825774  0.40986214]\n",
      "[-0.44111988 -0.21825774  0.40986214]\n",
      "[-0.44111988 -0.21825774  0.40986214]\n",
      "[-0.44111988 -0.21825774  0.40986214]\n",
      "[-0.43026499 -0.23169714  0.38505095  0.01654079]\n",
      "[-0.43026499 -0.23169714  0.38505095  0.01654079]\n",
      "[-0.43026499 -0.23169714  0.38505095  0.01654079]\n",
      "[-0.43026499 -0.23169714  0.38505095  0.01654079]\n",
      "[-0.43026499 -0.23169714  0.38505095  0.01654079]\n",
      "[-0.43026499 -0.23169714  0.38505095  0.01654079]\n",
      "[-0.43026499 -0.23169714  0.38505095  0.01654079]\n",
      "[-0.43026499 -0.23169714  0.38505095  0.01654079]\n",
      "[-0.43026499 -0.23169714  0.38505095  0.01654079]\n",
      "[-0.43026499 -0.23169714  0.38505095  0.01654079]\n",
      "[-0.43026499 -0.23169714  0.38505095  0.01654079]\n",
      "[-0.43026499 -0.23169714  0.38505095  0.01654079]\n",
      "[-0.43026499 -0.23169714  0.38505095  0.01654079]\n"
     ]
    },
    {
     "data": {
      "text/plain": [
       "<matplotlib.legend.Legend at 0x11b9b3ba8>"
      ]
     },
     "execution_count": 9,
     "metadata": {},
     "output_type": "execute_result"
    },
    {
     "data": {
      "image/png": "[encoded data removed]",
      "text/plain": [
       "<Figure size 720x216 with 1 Axes>"
      ]
     },
     "metadata": {
      "needs_background": "light"
     },
     "output_type": "display_data"
    }
   ],
   "source": [
    "f = plt.figure(figsize = (10,3))\n",
    "plt.title(\"Графики исходной функции (точечный) и многочленов\")\n",
    "plt.plot(x, y, label='y = f(x)')\n",
    "for i in range(4):\n",
    "    plt.plot(x, [p_m(min_sqr(x,y,n,i),x[j]) for j in range(len(x))], label = 'p_%i'%i)\n",
    "plt.legend(loc='best')"
   ]
  },
  {
   "cell_type": "markdown",
   "metadata": {},
   "source": [
    "Используем QR-разложение"
   ]
  },
  {
   "cell_type": "code",
   "execution_count": 10,
   "metadata": {},
   "outputs": [],
   "source": [
    "from scipy.linalg import qr\n",
    "from scipy.linalg import solve_triangular\n",
    "from numpy.linalg import inv"
   ]
  },
  {
   "cell_type": "markdown",
   "metadata": {},
   "source": [
    "Представим $A$ в виде $A = QR$. Тогда нужно найти решение для $Rx = Q^Tb$"
   ]
  },
  {
   "cell_type": "code",
   "execution_count": 11,
   "metadata": {},
   "outputs": [],
   "source": [
    "def min_sqr2(x,y,n,m):\n",
    "    m = m+1\n",
    "    A = np.empty([m, m])\n",
    "    for j in range(0,m):\n",
    "        for k in range(0,m):\n",
    "            A[j][k] = sum([np.power(x[i],k+j) for i in range(n)])\n",
    "    Q,R = qr(A)\n",
    "    y_new = Q.transpose()@y[:m]\n",
    "    a = solve_triangular(R, y_new)\n",
    "    print(a)\n",
    "    return a"
   ]
  },
  {
   "cell_type": "code",
   "execution_count": 12,
   "metadata": {},
   "outputs": [
    {
     "name": "stdout",
     "output_type": "stream",
     "text": [
      "[0.01476923]\n",
      "[ 0.02136264 -0.01318681]\n"
     ]
    }
   ],
   "source": [
    "a0 = min_sqr2(x,y,n,0)\n",
    "a1 = min_sqr2(x,y,n,1)"
   ]
  },
  {
   "cell_type": "code",
   "execution_count": 13,
   "metadata": {},
   "outputs": [
    {
     "name": "stdout",
     "output_type": "stream",
     "text": [
      "[0.01476923]\n",
      "[ 0.02136264 -0.01318681]\n",
      "[ 0.04334066  0.02197802 -0.03516484]\n",
      "[ 0.05043856  0.01319014 -0.05138861  0.01081585]\n",
      "[ 0.0628542   0.30063109 -0.1702778  -0.32628767  0.16855176]\n",
      "[ 0.06612927  0.30278088 -0.19261546 -0.32393634  0.18736242 -0.00752426]\n",
      "[-0.02620729  0.9653657   0.52667707 -2.56239857 -0.00663764  1.56835315\n",
      " -0.52529247]\n",
      "[-0.09737607  0.47881113  1.61072956 -0.86417782 -2.74730451  0.88318643\n",
      "  1.256141   -0.50898099]\n",
      "[ -0.68069347   1.45710992  11.79279368 -10.29511483 -26.43711136\n",
      "  24.27576613  11.2815323  -15.78576773   3.81919669]\n",
      "[ -0.76304617   4.41283125  12.66869529 -33.41105884 -19.49020328\n",
      "  67.3106457  -16.12544752 -34.25043491  23.54062131  -4.38253881]\n",
      "[  -1.67210428   -1.2110158    44.05228367    8.30685797 -191.89274464\n",
      "   41.8326497   274.88930128 -150.3554012  -105.00416196  100.66481121\n",
      "  -21.00947002]\n",
      "[  -12.12020277    34.6424106    462.01467695  -745.09281035\n",
      " -2405.87008144  4052.1547322   2797.23077668 -7094.3288323\n",
      "  1335.5755183   3365.97889    -2172.27519608   391.13922111]\n",
      "[-3.66419921e+01  6.10987386e+02  1.22194479e+03 -1.20279323e+04\n",
      "  5.86461094e+02  5.57318904e+04 -4.23907301e+04 -7.41276844e+04\n",
      "  9.86655614e+04  1.26251072e+03 -5.33624378e+04  2.85424864e+04\n",
      " -4.69188675e+03]\n"
     ]
    }
   ],
   "source": [
    "lst_m = [i for i in range(13)]\n",
    "lst_sigm = [otkl(min_sqr2(x,y,n,i)) for i in lst_m]"
   ]
  },
  {
   "cell_type": "code",
   "execution_count": 14,
   "metadata": {},
   "outputs": [
    {
     "data": {
      "text/plain": [
       "<BarContainer object of 8 artists>"
      ]
     },
     "execution_count": 14,
     "metadata": {},
     "output_type": "execute_result"
    },
    {
     "data": {
      "image/png": "[encoded data removed]",
      "text/plain": [
       "<Figure size 720x216 with 1 Axes>"
      ]
     },
     "metadata": {
      "needs_background": "light"
     },
     "output_type": "display_data"
    }
   ],
   "source": [
    "f2 = plt.figure(figsize = (10,3))\n",
    "plt.bar(lst_m[:8], lst_sigm[:8], color=\"blue\")"
   ]
  },
  {
   "cell_type": "code",
   "execution_count": 15,
   "metadata": {},
   "outputs": [
    {
     "name": "stdout",
     "output_type": "stream",
     "text": [
      "[-0.08915385]\n",
      "[-0.08915385]\n",
      "[-0.08915385]\n",
      "[-0.08915385]\n",
      "[-0.08915385]\n",
      "[-0.08915385]\n",
      "[-0.08915385]\n",
      "[-0.08915385]\n",
      "[-0.08915385]\n",
      "[-0.08915385]\n",
      "[-0.08915385]\n",
      "[-0.08915385]\n",
      "[-0.08915385]\n",
      "[-0.18495604  0.1916044 ]\n",
      "[-0.18495604  0.1916044 ]\n",
      "[-0.18495604  0.1916044 ]\n",
      "[-0.18495604  0.1916044 ]\n",
      "[-0.18495604  0.1916044 ]\n",
      "[-0.18495604  0.1916044 ]\n",
      "[-0.18495604  0.1916044 ]\n",
      "[-0.18495604  0.1916044 ]\n",
      "[-0.18495604  0.1916044 ]\n",
      "[-0.18495604  0.1916044 ]\n",
      "[-0.18495604  0.1916044 ]\n",
      "[-0.18495604  0.1916044 ]\n",
      "[-0.18495604  0.1916044 ]\n",
      "[-0.44111988 -0.21825774  0.40986214]\n",
      "[-0.44111988 -0.21825774  0.40986214]\n",
      "[-0.44111988 -0.21825774  0.40986214]\n",
      "[-0.44111988 -0.21825774  0.40986214]\n",
      "[-0.44111988 -0.21825774  0.40986214]\n",
      "[-0.44111988 -0.21825774  0.40986214]\n",
      "[-0.44111988 -0.21825774  0.40986214]\n",
      "[-0.44111988 -0.21825774  0.40986214]\n",
      "[-0.44111988 -0.21825774  0.40986214]\n",
      "[-0.44111988 -0.21825774  0.40986214]\n",
      "[-0.44111988 -0.21825774  0.40986214]\n",
      "[-0.44111988 -0.21825774  0.40986214]\n",
      "[-0.44111988 -0.21825774  0.40986214]\n",
      "[-0.43026499 -0.23169714  0.38505095  0.01654079]\n",
      "[-0.43026499 -0.23169714  0.38505095  0.01654079]\n",
      "[-0.43026499 -0.23169714  0.38505095  0.01654079]\n",
      "[-0.43026499 -0.23169714  0.38505095  0.01654079]\n",
      "[-0.43026499 -0.23169714  0.38505095  0.01654079]\n",
      "[-0.43026499 -0.23169714  0.38505095  0.01654079]\n",
      "[-0.43026499 -0.23169714  0.38505095  0.01654079]\n",
      "[-0.43026499 -0.23169714  0.38505095  0.01654079]\n",
      "[-0.43026499 -0.23169714  0.38505095  0.01654079]\n",
      "[-0.43026499 -0.23169714  0.38505095  0.01654079]\n",
      "[-0.43026499 -0.23169714  0.38505095  0.01654079]\n",
      "[-0.43026499 -0.23169714  0.38505095  0.01654079]\n",
      "[-0.43026499 -0.23169714  0.38505095  0.01654079]\n"
     ]
    },
    {
     "data": {
      "text/plain": [
       "<matplotlib.legend.Legend at 0x11f33f320>"
      ]
     },
     "execution_count": 15,
     "metadata": {},
     "output_type": "execute_result"
    },
    {
     "data": {
      "image/png": "[encoded data removed]",
      "text/plain": [
       "<Figure size 720x216 with 1 Axes>"
      ]
     },
     "metadata": {
      "needs_background": "light"
     },
     "output_type": "display_data"
    }
   ],
   "source": [
    "f3 = plt.figure(figsize = (10,3))\n",
    "plt.title(\"Графики исходной функции (точечный) и многочленов\")\n",
    "plt.plot(x, y, label='y = f(x)')\n",
    "for i in range(4):\n",
    "    plt.plot(x, [p_m(min_sqr(x,y,n,i),x[j]) for j in range(len(x))], label = 'p_%i'%i)\n",
    "plt.legend(loc='best')"
   ]
  },
  {
   "cell_type": "markdown",
   "metadata": {},
   "source": [
    "### **Задача 5.3**"
   ]
  },
  {
   "cell_type": "markdown",
   "metadata": {},
   "source": [
    "Зависимость между величинами $x$ и $y$ описывается функцией $y=f(x,a,b)$, где $a$ и $b$ – неизвестные параметры. Найти эти параметры, сведя исходную задачу к линейной задаче метода наименьших квадратов."
   ]
  },
  {
   "cell_type": "markdown",
   "metadata": {},
   "source": [
    "$y = ae^{b|x|}$"
   ]
  },
  {
   "cell_type": "code",
   "execution_count": 16,
   "metadata": {},
   "outputs": [
    {
     "name": "stdout",
     "output_type": "stream",
     "text": [
      "x =\n",
      " [-1.5 -1.2 -0.9 -0.6 -0.3  0.   0.3  0.6  0.9  1.2  1.5]\n",
      "y =\n",
      " [ 0.0829  0.2192  0.5794  1.5315  4.0481 10.7     4.0481  1.5315  0.5794\n",
      "  0.2192  0.0829]\n"
     ]
    }
   ],
   "source": [
    "x = np.linspace(-1.5, 1.5, num=11)\n",
    "print(\"x =\\n\", x)\n",
    "y = np.array([0.0829, 0.2192, 0.5794, 1.5315, 4.0481, 10.7, 4.0481, 1.5315, 0.5794, 0.2192, 0.0829])\n",
    "print(\"y =\\n\", y)"
   ]
  },
  {
   "cell_type": "markdown",
   "metadata": {},
   "source": [
    "Сделаем замену $s = ln(y)$, $t = |x|$. Получим $s = ln(a) + bt$"
   ]
  },
  {
   "cell_type": "code",
   "execution_count": 17,
   "metadata": {},
   "outputs": [],
   "source": [
    "s = [math.log(i) for i in y]\n",
    "s = np.array(s)\n",
    "t = [abs(i) for i in x]\n",
    "t = np.array(t)"
   ]
  },
  {
   "cell_type": "code",
   "execution_count": 18,
   "metadata": {},
   "outputs": [
    {
     "name": "stdout",
     "output_type": "stream",
     "text": [
      "[ 2.3703411  -3.24020268]\n"
     ]
    }
   ],
   "source": [
    "coef = min_sqr(t,s,len(x),1)"
   ]
  },
  {
   "cell_type": "markdown",
   "metadata": {},
   "source": [
    "Вместо $a$ получили $ln(a)$. Вернемся обратно"
   ]
  },
  {
   "cell_type": "code",
   "execution_count": 19,
   "metadata": {},
   "outputs": [],
   "source": [
    "coef[0] = math.exp((coef[0]))"
   ]
  },
  {
   "cell_type": "code",
   "execution_count": 20,
   "metadata": {},
   "outputs": [
    {
     "name": "stdout",
     "output_type": "stream",
     "text": [
      "a =  10.701041821804608 \n",
      "b =  -3.2402026775598265\n"
     ]
    }
   ],
   "source": [
    "print(\"a = \", coef[0], \"\\nb = \", coef[1])"
   ]
  },
  {
   "cell_type": "markdown",
   "metadata": {},
   "source": [
    "### **Задача 5.7**"
   ]
  },
  {
   "cell_type": "markdown",
   "metadata": {},
   "source": [
    "Дана кусочно-гладкая функция $y=f(x)$. Сравнить качество приближения функции кусочно-линейной и\n",
    "глобальной интерполяциями"
   ]
  },
  {
   "cell_type": "markdown",
   "metadata": {},
   "source": [
    "$y = |cos(x)|$"
   ]
  },
  {
   "cell_type": "markdown",
   "metadata": {},
   "source": [
    "Вычислим значения функции в произвольных точках $x_i$, i=0,1,..., k-1, отрезка $[0,\\pi]$, по которым будет осуществляться интерполяция функции"
   ]
  },
  {
   "cell_type": "code",
   "execution_count": 21,
   "metadata": {},
   "outputs": [
    {
     "name": "stdout",
     "output_type": "stream",
     "text": [
      "[0.         0.16534698 0.33069396 0.49604095 0.66138793 0.82673491\n",
      " 0.99208189 1.15742887 1.32277585 1.48812284 1.65346982 1.8188168\n",
      " 1.98416378 2.14951076 2.31485774 2.48020473 2.64555171 2.81089869\n",
      " 2.97624567 3.14159265]\n"
     ]
    }
   ],
   "source": [
    "k = 20\n",
    "x = np.linspace(0, math.pi, num=k)\n",
    "print(x)"
   ]
  },
  {
   "cell_type": "code",
   "execution_count": 22,
   "metadata": {},
   "outputs": [],
   "source": [
    "def y_func(x):\n",
    "    return abs(math.cos(x))"
   ]
  },
  {
   "cell_type": "code",
   "execution_count": 23,
   "metadata": {},
   "outputs": [
    {
     "name": "stdout",
     "output_type": "stream",
     "text": [
      "[1.0, 0.9863613034027223, 0.9458172417006346, 0.8794737512064891, 0.7891405093963937, 0.6772815716257411, 0.546948158122427, 0.40169542465296953, 0.24548548714079924, 0.0825793454723324, 0.08257934547233228, 0.24548548714079912, 0.40169542465296926, 0.5469481581224267, 0.6772815716257409, 0.7891405093963935, 0.879473751206489, 0.9458172417006346, 0.9863613034027223, 1.0]\n"
     ]
    }
   ],
   "source": [
    "y = [y_func(i) for i in x]\n",
    "print(y)"
   ]
  },
  {
   "cell_type": "markdown",
   "metadata": {},
   "source": [
    "Составим функцию, возвращающую линейную функцию по двум точкам (интерполятор первого порядка) "
   ]
  },
  {
   "cell_type": "code",
   "execution_count": 24,
   "metadata": {},
   "outputs": [],
   "source": [
    "def lin_interpolator(x1,y1,x2,y2,x):\n",
    "    return (x*(y2 - y1)/(x2-x1)+ x1*(y2-y1)/(x2-x1) + y1)"
   ]
  },
  {
   "cell_type": "markdown",
   "metadata": {},
   "source": [
    "Вычислим приближенные значения в $3k$ точках отрезка $[0,\\pi]$"
   ]
  },
  {
   "cell_type": "code",
   "execution_count": 25,
   "metadata": {},
   "outputs": [
    {
     "name": "stdout",
     "output_type": "stream",
     "text": [
      "[0.         0.05324733 0.10649467 0.159742   0.21298933 0.26623667\n",
      " 0.319484   0.37273133 0.42597866 0.479226   0.53247333 0.58572066\n",
      " 0.638968   0.69221533 0.74546266 0.79871    0.85195733 0.90520466\n",
      " 0.958452   1.01169933 1.06494666 1.118194   1.17144133 1.22468866\n",
      " 1.27793599 1.33118333 1.38443066 1.43767799 1.49092533 1.54417266\n",
      " 1.59741999 1.65066733 1.70391466 1.75716199 1.81040933 1.86365666\n",
      " 1.91690399 1.97015133 2.02339866 2.07664599 2.12989332 2.18314066\n",
      " 2.23638799 2.28963532 2.34288266 2.39612999 2.44937732 2.50262466\n",
      " 2.55587199 2.60911932 2.66236666 2.71561399 2.76886132 2.82210865\n",
      " 2.87535599 2.92860332 2.98185065 3.03509799 3.08834532 3.14159265]\n"
     ]
    }
   ],
   "source": [
    "x1 = np.linspace(0, math.pi, num=3*k)\n",
    "print(x1)"
   ]
  },
  {
   "cell_type": "code",
   "execution_count": 26,
   "metadata": {},
   "outputs": [],
   "source": [
    "y1 = []\n",
    "for i in range (3*k):\n",
    "    z = -1\n",
    "    for j in range(k):\n",
    "        if (x1[i]>x[j] and x1[i]<x[j+1]):\n",
    "            z = j\n",
    "            break\n",
    "    y1.append(lin_interpolator(x[z], y[z], x[z+1], y[z+1], x1[i]))"
   ]
  },
  {
   "cell_type": "code",
   "execution_count": 27,
   "metadata": {},
   "outputs": [
    {
     "name": "stdout",
     "output_type": "stream",
     "text": [
      "[1.0, 0.9956078773669784, 0.9912157547339567, 0.9868236321009352, 0.8935909927284539, 0.8805344304854087, 0.8674778682423635, 0.6635762906153713, 0.6422114377443753, 0.6208465848733792, 0.31757036570979413, 0.2884799997031532, 0.25938963369651236, -0.12658604896335524, -0.16260841875390453, -0.1986307885444536, -0.6459339315689229, -0.6879057087988035, -0.7298774860286842, -1.2133180186684558, -1.2600943226670949, -1.3068706266657335, -1.7984818308150559, -1.8487867259460933, -1.8990916210771316, -2.3692961426903545, -2.4217574425496915, -2.474218742409028, 0.0825793454723304, 0.08257934547233035, 0.08257934547233033, 0.08257934547233028, 3.390402357655777, 3.4428636575151135, 3.495324957374451, 3.7244661293609997, 3.774771024492037, 3.8250759196230755, 3.9222277782347343, 3.9690040822333725, 4.015780386232011, 3.962125400090624, 4.004097177320506, 4.046068954550386, 3.8282909711990385, 3.864313340989588, 3.900335710780137, 3.511386338859949, 3.54047670486659, 3.56956707087323, 3.0092122426626227, 3.0305770955336184, 3.0519419484046146, 2.3270640895175196, 2.3401206517605653, 2.3531772140036105, 1.4778167096029313, 1.482208832235953, 1.4866009548689747, 1.0]\n"
     ]
    }
   ],
   "source": [
    "print(y1)"
   ]
  },
  {
   "cell_type": "code",
   "execution_count": 28,
   "metadata": {},
   "outputs": [
    {
     "data": {
      "text/plain": [
       "[<matplotlib.lines.Line2D at 0x11f401d30>]"
      ]
     },
     "execution_count": 28,
     "metadata": {},
     "output_type": "execute_result"
    },
    {
     "data": {
      "image/png": "[encoded data removed]",
      "text/plain": [
       "<Figure size 720x216 with 1 Axes>"
      ]
     },
     "metadata": {
      "needs_background": "light"
     },
     "output_type": "display_data"
    }
   ],
   "source": [
    "f4 = plt.figure(figsize = (10,3))\n",
    "plt.plot(x,y)\n",
    "plt.plot(x1,y1)"
   ]
  },
  {
   "cell_type": "markdown",
   "metadata": {},
   "source": [
    "Составим интерполяционный многочлен Ньютона"
   ]
  },
  {
   "cell_type": "code",
   "execution_count": 29,
   "metadata": {},
   "outputs": [],
   "source": [
    "def coef(x, y):\n",
    "    n = len(x)\n",
    "    a = []\n",
    "    for i in range(n):\n",
    "        a.append(y[i])\n",
    "    for j in range(1, n):\n",
    "        for i in range(n-1, j-1, -1):\n",
    "            a[i] = float(a[i]-a[i-1])/float(x[i]-x[i-j])\n",
    "\n",
    "    return np.array(a)\n",
    "\n",
    "def Newton(a, x, r):\n",
    "    n = len(a) - 1\n",
    "    temp = a[n]\n",
    "    for i in range( n - 1, -1, -1 ):\n",
    "        temp = temp * ( r - x[i] ) + a[i]\n",
    "    return temp "
   ]
  },
  {
   "cell_type": "code",
   "execution_count": 30,
   "metadata": {},
   "outputs": [
    {
     "name": "stdout",
     "output_type": "stream",
     "text": [
      "60\n"
     ]
    }
   ],
   "source": [
    "x = np.array(x)\n",
    "y = np.array(y)\n",
    "y3 = Newton(coef(x,y),x,x1)\n",
    "print(len(y3))"
   ]
  },
  {
   "cell_type": "code",
   "execution_count": 31,
   "metadata": {
    "scrolled": false
   },
   "outputs": [
    {
     "data": {
      "text/plain": [
       "<matplotlib.collections.PathCollection at 0x11f523d68>"
      ]
     },
     "execution_count": 31,
     "metadata": {},
     "output_type": "execute_result"
    },
    {
     "data": {
      "image/png": "[encoded data removed]",
      "text/plain": [
       "<Figure size 720x216 with 1 Axes>"
      ]
     },
     "metadata": {
      "needs_background": "light"
     },
     "output_type": "display_data"
    }
   ],
   "source": [
    "f5 = plt.figure(figsize = (10,3))\n",
    "plt.title(\"Графики\")\n",
    "plt.plot(x,y)\n",
    "plt.plot(x1,y1)\n",
    "plt.plot(x1,y3)\n",
    "plt.scatter(x, y)"
   ]
  },
  {
   "cell_type": "code",
   "execution_count": 32,
   "metadata": {},
   "outputs": [],
   "source": [
    "er1 = [y_func(x1[i]) - y1[i] for i in range(3*k)]\n",
    "er3 = [y_func(x1[i]) - y3[i] for i in range(3*k)]"
   ]
  },
  {
   "cell_type": "code",
   "execution_count": 33,
   "metadata": {},
   "outputs": [
    {
     "data": {
      "text/plain": [
       "[<matplotlib.lines.Line2D at 0x11f663438>]"
      ]
     },
     "execution_count": 33,
     "metadata": {},
     "output_type": "execute_result"
    },
    {
     "data": {
      "image/png": "[encoded data removed]",
      "text/plain": [
       "<Figure size 720x216 with 1 Axes>"
      ]
     },
     "metadata": {
      "needs_background": "light"
     },
     "output_type": "display_data"
    }
   ],
   "source": [
    "f6 = plt.figure(figsize = (10,3))\n",
    "plt.title(\"Погрешности\")\n",
    "plt.plot(range(3*k),er1)\n",
    "plt.plot(range(3*k),er3)"
   ]
  },
  {
   "cell_type": "markdown",
   "metadata": {},
   "source": [
    "### **Задача 5.8**"
   ]
  },
  {
   "cell_type": "markdown",
   "metadata": {},
   "source": [
    "Дана функция $y=f(x)$. Приблизить $f(x)$ методом глобальной интерполяции при равномерном и чебышевском распределениях узлов интерполяции. Сравнить качество приближения."
   ]
  },
  {
   "cell_type": "markdown",
   "metadata": {},
   "source": [
    "$y = e^{-x^2}$, отрезок $[-1,1]$"
   ]
  },
  {
   "cell_type": "code",
   "execution_count": 34,
   "metadata": {},
   "outputs": [
    {
     "name": "stdout",
     "output_type": "stream",
     "text": [
      "[-1.         -0.89473684 -0.78947368 -0.68421053 -0.57894737 -0.47368421\n",
      " -0.36842105 -0.26315789 -0.15789474 -0.05263158  0.05263158  0.15789474\n",
      "  0.26315789  0.36842105  0.47368421  0.57894737  0.68421053  0.78947368\n",
      "  0.89473684  1.        ]\n"
     ]
    }
   ],
   "source": [
    "k = 20\n",
    "x = np.linspace(-1, 1, num=k)\n",
    "print(x)"
   ]
  },
  {
   "cell_type": "code",
   "execution_count": 35,
   "metadata": {},
   "outputs": [],
   "source": [
    "def y_func(x):\n",
    "    return math.exp(-x**2)"
   ]
  },
  {
   "cell_type": "code",
   "execution_count": 36,
   "metadata": {},
   "outputs": [
    {
     "name": "stdout",
     "output_type": "stream",
     "text": [
      "[0.36787944117144233, 0.44908009734755805, 0.5361889303292545, 0.6261633218904425, 0.7152092974610132, 0.7990140640530015, 0.873074776630392, 0.9330914390145758, 0.9753774566047819, 0.9972337500375152, 0.9972337500375152, 0.9753774566047819, 0.9330914390145758, 0.8730747766303921, 0.7990140640530016, 0.7152092974610132, 0.6261633218904427, 0.5361889303292547, 0.44908009734755816, 0.36787944117144233]\n"
     ]
    }
   ],
   "source": [
    "y = [y_func(i) for i in x]\n",
    "print(y)"
   ]
  },
  {
   "cell_type": "code",
   "execution_count": 37,
   "metadata": {},
   "outputs": [],
   "source": [
    "X_matrix = []\n",
    "for i in range(k):\n",
    "    x_line = []\n",
    "    for j in range(k):\n",
    "        x_line.append(x[i]**j)\n",
    "    X_matrix.append(x_line)\n",
    "X_matrix = np.array(X_matrix)"
   ]
  },
  {
   "cell_type": "code",
   "execution_count": 38,
   "metadata": {},
   "outputs": [
    {
     "name": "stdout",
     "output_type": "stream",
     "text": [
      "Получившиеся коэффициенты многочлена k-ой степени: \n",
      " [ 1.00000000e+00  1.59973087e-16 -1.00000000e+00 -2.27062437e-14\n",
      "  5.00000000e-01  7.22911677e-13 -1.66666665e-01 -1.02275192e-11\n",
      "  4.16666482e-02  7.30155889e-11 -8.33321706e-03 -2.87750415e-10\n",
      "  1.38846312e-03  6.51412750e-10 -1.97484340e-04 -8.39600082e-10\n",
      "  2.36120478e-05  5.70103989e-10 -1.91566306e-06 -1.57654677e-10]\n"
     ]
    }
   ],
   "source": [
    "a = np.linalg.solve(X_matrix, y)\n",
    "print(\"Получившиеся коэффициенты многочлена k-ой степени: \\n\", a)"
   ]
  },
  {
   "cell_type": "markdown",
   "metadata": {},
   "source": [
    "Посчитаем значения в 3k точках"
   ]
  },
  {
   "cell_type": "code",
   "execution_count": 39,
   "metadata": {},
   "outputs": [],
   "source": [
    "def calc_global_interpolation(x,a):\n",
    "    s = 0\n",
    "    for i in range(k):\n",
    "        s+=a[i]*(x**i)\n",
    "    return s"
   ]
  },
  {
   "cell_type": "code",
   "execution_count": 40,
   "metadata": {},
   "outputs": [
    {
     "name": "stdout",
     "output_type": "stream",
     "text": [
      "[-1.         -0.96610169 -0.93220339 -0.89830508 -0.86440678 -0.83050847\n",
      " -0.79661017 -0.76271186 -0.72881356 -0.69491525 -0.66101695 -0.62711864\n",
      " -0.59322034 -0.55932203 -0.52542373 -0.49152542 -0.45762712 -0.42372881\n",
      " -0.38983051 -0.3559322  -0.3220339  -0.28813559 -0.25423729 -0.22033898\n",
      " -0.18644068 -0.15254237 -0.11864407 -0.08474576 -0.05084746 -0.01694915\n",
      "  0.01694915  0.05084746  0.08474576  0.11864407  0.15254237  0.18644068\n",
      "  0.22033898  0.25423729  0.28813559  0.3220339   0.3559322   0.38983051\n",
      "  0.42372881  0.45762712  0.49152542  0.52542373  0.55932203  0.59322034\n",
      "  0.62711864  0.66101695  0.69491525  0.72881356  0.76271186  0.79661017\n",
      "  0.83050847  0.86440678  0.89830508  0.93220339  0.96610169  1.        ]\n"
     ]
    }
   ],
   "source": [
    "x1 = np.linspace(-1, 1, num=3*k)\n",
    "print(x1)"
   ]
  },
  {
   "cell_type": "code",
   "execution_count": 41,
   "metadata": {},
   "outputs": [
    {
     "name": "stdout",
     "output_type": "stream",
     "text": [
      "[0.36787944117144233, 0.39323318981504973, 0.41936938515215527, 0.4462160508640477, 0.4736914679439123, 0.5017043252466243, 0.5301539928251693, 0.5589309217746116, 0.5879171724117674, 0.6169870705951799, 0.6460079898629728, 0.6748412548707285, 0.7033431593884797, 0.7313660899098519, 0.7587597437844772, 0.7853724287549827, 0.8110524289098444, 0.8356494203990418, 0.8590159188437231, 0.8810087392426792, 0.9014904483707046, 0.9203307892038824, 0.9374080568141945, 0.9526104054623724, 0.9658370672868699, 0.9769994640326801, 0.986022194672186, 0.9928438835182442, 0.9974178754861542, 0.9997127674872522, 0.9997127674872522, 0.9974178754861541, 0.9928438835182442, 0.986022194672186, 0.9769994640326801, 0.9658370672868697, 0.9526104054623724, 0.9374080568141945, 0.9203307892038824, 0.9014904483707044, 0.8810087392426793, 0.859015918843723, 0.8356494203990416, 0.8110524289098445, 0.7853724287549825, 0.7587597437844772, 0.7313660899098516, 0.7033431593884795, 0.6748412548707282, 0.6460079898629726, 0.6169870705951801, 0.5879171724117686, 0.558930921774613, 0.5301539928251683, 0.5017043252466187, 0.4736914679439032, 0.44621605086405003, 0.41936938515220323, 0.3932331898151609, 0.3678794411714422]\n"
     ]
    }
   ],
   "source": [
    "y1 = [calc_global_interpolation(i,a) for i in x1]\n",
    "print(y1)"
   ]
  },
  {
   "cell_type": "code",
   "execution_count": 42,
   "metadata": {},
   "outputs": [
    {
     "data": {
      "text/plain": [
       "[<matplotlib.lines.Line2D at 0x11f6c7588>]"
      ]
     },
     "execution_count": 42,
     "metadata": {},
     "output_type": "execute_result"
    },
    {
     "data": {
      "image/png": "[encoded data removed]",
      "text/plain": [
       "<Figure size 720x216 with 1 Axes>"
      ]
     },
     "metadata": {
      "needs_background": "light"
     },
     "output_type": "display_data"
    }
   ],
   "source": [
    "f7 = plt.figure(figsize = (10,3))\n",
    "plt.title(\"Графики многочлена и исходной функции\")\n",
    "plt.plot(x,y)\n",
    "plt.plot(x1,y1)"
   ]
  },
  {
   "cell_type": "code",
   "execution_count": 43,
   "metadata": {},
   "outputs": [
    {
     "name": "stdout",
     "output_type": "stream",
     "text": [
      "[0.996917333733128, 0.9723699203976766, 0.9238795325112867, 0.8526401643540923, 0.760405965600031, 0.6494480483301837, 0.5224985647159489, 0.38268343236508984, 0.23344536385590545, 0.078459095727845, -0.07845909572784489, -0.23344536385590514, -0.3826834323650897, -0.5224985647159488, -0.6494480483301835, -0.7604059656000309, -0.8526401643540922, -0.9238795325112867, -0.9723699203976766, -0.996917333733128]\n"
     ]
    }
   ],
   "source": [
    "xc = [math.cos((2*i+1)/(2*k)*math.pi) for i in range(k)]\n",
    "print(xc)"
   ]
  },
  {
   "cell_type": "code",
   "execution_count": 44,
   "metadata": {},
   "outputs": [
    {
     "name": "stdout",
     "output_type": "stream",
     "text": [
      "[0.37015102894271995, 0.3884840124196476, 0.42589885495222357, 0.4833591838347625, 0.5608974254455905, 0.6558765016244992, 0.761089172347665, 0.8637718483951083, 0.9469615979307076, 0.9938630785985761, 0.9938630785985761, 0.9469615979307078, 0.8637718483951085, 0.7610891723476652, 0.6558765016244993, 0.5608974254455906, 0.48335918383476256, 0.42589885495222357, 0.3884840124196476, 0.37015102894271995]\n"
     ]
    }
   ],
   "source": [
    "yc = [y_func(i) for i in xc]\n",
    "print(yc)"
   ]
  },
  {
   "cell_type": "code",
   "execution_count": 45,
   "metadata": {},
   "outputs": [],
   "source": [
    "X_matrix_ch = []\n",
    "for i in range(k):\n",
    "    x_line = []\n",
    "    for j in range(k):\n",
    "        x_line.append(xc[i]**j)\n",
    "    X_matrix_ch.append(x_line)\n",
    "X_matrix_ch = np.array(X_matrix_ch)\n",
    "ac = np.linalg.solve(X_matrix_ch, yc)"
   ]
  },
  {
   "cell_type": "code",
   "execution_count": 46,
   "metadata": {},
   "outputs": [
    {
     "name": "stdout",
     "output_type": "stream",
     "text": [
      "[0.36787944117113597, 0.39323318975755445, 0.4193693851282001, 0.44621605086313393, 0.47369146794818834, 0.5017043252488297, 0.5301539928251645, 0.558930921774064, 0.5879171724116212, 0.6169870705954048, 0.6460079898631668, 0.674841254870647, 0.7033431593881843, 0.7313660899095783, 0.7587597437844255, 0.7853724287551881, 0.8110524289101798, 0.8356494203993116, 0.8590159188437797, 0.8810087392424962, 0.9014904483703796, 0.9203307892035782, 0.937408056814057, 0.9526104054624649, 0.9658370672871466, 0.9769994640330136, 0.9860221946724259, 0.9928438835182847, 0.9974178754859783, 0.999712767486938, 0.999712767486938, 0.9974178754859783, 0.9928438835182847, 0.986022194672426, 0.9769994640330136, 0.9658370672871466, 0.9526104054624648, 0.937408056814057, 0.9203307892035782, 0.9014904483703792, 0.8810087392424963, 0.8590159188437796, 0.8356494203993113, 0.8110524289101799, 0.7853724287551883, 0.7587597437844257, 0.7313660899095785, 0.7033431593881845, 0.674841254870647, 0.646007989863167, 0.616987070595405, 0.5879171724116213, 0.5589309217740638, 0.530153992825164, 0.5017043252488297, 0.4736914679481883, 0.44621605086313393, 0.4193693851282002, 0.39323318975755434, 0.36787944117113597]\n"
     ]
    }
   ],
   "source": [
    "yc1 = [calc_global_interpolation(i,ac) for i in x1]\n",
    "print(yc1)"
   ]
  },
  {
   "cell_type": "code",
   "execution_count": 47,
   "metadata": {},
   "outputs": [
    {
     "data": {
      "text/plain": [
       "[<matplotlib.lines.Line2D at 0x11f7abc50>]"
      ]
     },
     "execution_count": 47,
     "metadata": {},
     "output_type": "execute_result"
    },
    {
     "data": {
      "image/png": "[encoded data removed]",
      "text/plain": [
       "<Figure size 720x216 with 1 Axes>"
      ]
     },
     "metadata": {
      "needs_background": "light"
     },
     "output_type": "display_data"
    }
   ],
   "source": [
    "f8 = plt.figure(figsize = (10,3))\n",
    "plt.title(\"Графики многочлена и исходной функции при чебышевском распределении\")\n",
    "plt.plot(xc,yc)\n",
    "plt.plot(x1,yc1)"
   ]
  },
  {
   "cell_type": "markdown",
   "metadata": {},
   "source": [
    "Посчитаем ошибки"
   ]
  },
  {
   "cell_type": "code",
   "execution_count": 48,
   "metadata": {},
   "outputs": [
    {
     "name": "stdout",
     "output_type": "stream",
     "text": [
      "5.745620645924987e-11\n",
      "3.3373304120232206e-13\n"
     ]
    }
   ],
   "source": [
    "yf = [y_func(i) for i in x1]\n",
    "er1 = max([abs(yf[i]-y1[i]) for i in range(3*k)])\n",
    "er2 = max([abs(yf[i]-yc1[i]) for i in range(3*k)])\n",
    "print(er1)\n",
    "print(er2)"
   ]
  },
  {
   "cell_type": "markdown",
   "metadata": {},
   "source": [
    "Ошибка при равномерном распределении выше"
   ]
  },
  {
   "cell_type": "markdown",
   "metadata": {},
   "source": [
    "Построим многочлен по 2k узлам интерполяции"
   ]
  },
  {
   "cell_type": "code",
   "execution_count": 49,
   "metadata": {},
   "outputs": [],
   "source": [
    "x_new = np.linspace(-1, 1, num=2*k)\n",
    "y_new = [y_func(i) for i in x_new]\n",
    "X_matrix_new = []\n",
    "for i in range(2*k):\n",
    "    x_line = []\n",
    "    for j in range(2*k):\n",
    "        x_line.append(x_new[i]**j)\n",
    "    X_matrix_new.append(x_line)\n",
    "X_matrix_new = np.array(X_matrix_new)\n",
    "a_new = np.linalg.solve(X_matrix_new, y_new)"
   ]
  },
  {
   "cell_type": "code",
   "execution_count": 50,
   "metadata": {},
   "outputs": [
    {
     "data": {
      "text/plain": [
       "[<matplotlib.lines.Line2D at 0x11f9124a8>]"
      ]
     },
     "execution_count": 50,
     "metadata": {},
     "output_type": "execute_result"
    },
    {
     "data": {
      "image/png": "[encoded data removed]",
      "text/plain": [
       "<Figure size 720x216 with 1 Axes>"
      ]
     },
     "metadata": {
      "needs_background": "light"
     },
     "output_type": "display_data"
    }
   ],
   "source": [
    "y1_new = [calc_global_interpolation(i,a_new) for i in x1]\n",
    "f9 = plt.figure(figsize = (10,3))\n",
    "plt.title(\"Графики многочлена и исходной функции (случай 2*k)\")\n",
    "plt.plot(x_new,y_new)\n",
    "plt.plot(x1,y1_new)"
   ]
  },
  {
   "cell_type": "code",
   "execution_count": 61,
   "metadata": {},
   "outputs": [
    {
     "name": "stdout",
     "output_type": "stream",
     "text": [
      "[ 1.00000000e+00 -1.69328646e-16 -1.00000000e+00  5.40143095e-14\n",
      "  5.00000000e-01 -5.04612952e-12 -1.66666667e-01  1.47296434e-10\n",
      "  4.16666683e-02 -2.21805398e-09 -8.33335498e-03  2.07169375e-08\n",
      "  1.38908353e-03 -1.32082048e-07 -1.99669530e-04  6.10895709e-07\n",
      "  3.07978802e-05 -2.14576346e-06 -2.43273371e-05  5.95255720e-06\n",
      "  5.95973503e-05 -1.34893558e-05 -1.25723126e-04  2.55501824e-05\n",
      "  2.05742929e-04 -4.06283568e-05 -2.59301867e-04  5.33771543e-05\n",
      "  2.49152210e-04 -5.61911189e-05 -1.79078898e-04  4.55812778e-05\n",
      "  9.31673418e-05 -2.71572094e-05 -3.31211173e-05  1.11108882e-05\n",
      "  7.19555279e-06 -2.77624389e-06 -7.20355548e-07  3.18533564e-07]\n"
     ]
    }
   ],
   "source": [
    "xc_new = [math.cos((2*i+1)/(4*k)*math.pi) for i in range(2*k)]\n",
    "yc_new = [y_func(i) for i in xc_new]\n",
    "X_matrix_ch_new = []\n",
    "#print(xc_new)\n",
    "for i in range(2*k):\n",
    "    x_line = []\n",
    "    for j in range(2*k):\n",
    "        x_line.append(xc_new[i]**j)\n",
    "    X_matrix_ch_new.append(x_line)\n",
    "X_matrix_ch_new = np.array(X_matrix_ch_new)\n",
    "ac_new = np.linalg.solve(X_matrix_ch_new, yc_new)\n",
    "print(ac_new)\n",
    "yc1_new = [calc_global_interpolation(i,ac_new) for i in x1]"
   ]
  },
  {
   "cell_type": "code",
   "execution_count": 62,
   "metadata": {},
   "outputs": [
    {
     "data": {
      "text/plain": [
       "[<matplotlib.lines.Line2D at 0x12010fef0>]"
      ]
     },
     "execution_count": 62,
     "metadata": {},
     "output_type": "execute_result"
    },
    {
     "data": {
      "image/png": "[encoded data removed]",
      "text/plain": [
       "<Figure size 720x216 with 1 Axes>"
      ]
     },
     "metadata": {
      "needs_background": "light"
     },
     "output_type": "display_data"
    }
   ],
   "source": [
    "f10 = plt.figure(figsize = (10,3))\n",
    "plt.title(\"Графики многочлена и исходной функции при чебышевском распределении (случай 2*k)\")\n",
    "plt.plot(xc_new,yc_new)\n",
    "plt.plot(x1,yc1_new)"
   ]
  },
  {
   "cell_type": "code",
   "execution_count": 63,
   "metadata": {},
   "outputs": [
    {
     "name": "stdout",
     "output_type": "stream",
     "text": [
      "0.09002924555336533\n",
      "2.1214269297298305e-05\n"
     ]
    }
   ],
   "source": [
    "er1 = max([abs(yf[i]-y1_new[i]) for i in range(3*k)])\n",
    "er2 = max([abs(yf[i]-yc1_new[i]) for i in range(3*k)])\n",
    "print(er1)\n",
    "print(er2)"
   ]
  },
  {
   "cell_type": "markdown",
   "metadata": {},
   "source": [
    "По сравнению с предыдущим случаем ошибка увеличилась (из-за несовпадений в концах отрезка)"
   ]
  }
 ],
 "metadata": {
  "kernelspec": {
   "display_name": "Python 3",
   "language": "python",
   "name": "python3"
  },
  "language_info": {
   "codemirror_mode": {
    "name": "ipython",
    "version": 3
   },
   "file_extension": ".py",
   "mimetype": "text/x-python",
   "name": "python",
   "nbconvert_exporter": "python",
   "pygments_lexer": "ipython3",
   "version": "3.6.5"
  }
 },
 "nbformat": 4,
 "nbformat_minor": 2
}
