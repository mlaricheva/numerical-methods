{
 "cells": [
  {
   "cell_type": "code",
   "execution_count": 69,
   "metadata": {},
   "outputs": [],
   "source": [
    "import numpy as np\n",
    "import math \n",
    "import matplotlib.pyplot as plt\n",
    "%matplotlib notebook"
   ]
  },
  {
   "cell_type": "markdown",
   "metadata": {},
   "source": [
    "# Ларичева Мария БПМ-161\n",
    "## Лабораторная работа 3. Вариант 12"
   ]
  },
  {
   "cell_type": "markdown",
   "metadata": {},
   "source": [
    "### **Задача 3.1.**\n",
    "<br>Дана система уравнений $Ax = b$ порядка n. Исследовать зависимость погрешности решения $x$ от погрешностей правой части системы $b$.\n",
    "<br>\n",
    "<br>Компоненты вектора $b$ во всех вариантах задаются формулой $b_i = N, ∀i = 1..n$, коэффициенты $c = c_{ij} = 0.1*N*i*j, ∀i,j = 1..n$. $N$ - номер варианта\n",
    "<br>\n",
    "<br>Матрица $A$: $A_{ij} = \\frac{111}{c^4+13+3c}$\n"
   ]
  },
  {
   "cell_type": "markdown",
   "metadata": {},
   "source": [
    "Зададим матрицу системы $A$ и вектор правой части $b$."
   ]
  },
  {
   "cell_type": "code",
   "execution_count": 70,
   "metadata": {},
   "outputs": [
    {
     "name": "stdout",
     "output_type": "stream",
     "text": [
      "матрица A: [[8.53846154e+00 8.53846154e+00 8.53846154e+00 8.53846154e+00]\n",
      " [8.53846154e+00 5.94422072e+00 2.07952400e+00 5.78843731e-01]\n",
      " [8.53846154e+00 2.07952400e+00 1.98838639e-01 4.07790548e-02]\n",
      " [8.53846154e+00 5.78843731e-01 4.07790548e-02 8.13169561e-03]]\n",
      "вектор b [12. 12. 12. 12.]\n"
     ]
    }
   ],
   "source": [
    "N = 4\n",
    "A = np.empty([N, N])\n",
    "b = np.ones(N)\n",
    "b = b*12\n",
    "for i in range(N):\n",
    "    for j in range(N):\n",
    "        c = 0.1*12*i*j\n",
    "        A[i][j] = 111/(c**4+13+3*c)\n",
    "\n",
    "print(\"матрица A:\", A)\n",
    "print(\"вектор b\", b)"
   ]
  },
  {
   "cell_type": "markdown",
   "metadata": {},
   "source": [
    "Найдем решение системы методом Гаусса через встроенную функцию *lsolve*"
   ]
  },
  {
   "cell_type": "code",
   "execution_count": 71,
   "metadata": {},
   "outputs": [
    {
     "name": "stdout",
     "output_type": "stream",
     "text": [
      "[ 1.40540541 -0.         -0.          0.        ]\n"
     ]
    }
   ],
   "source": [
    "x = np.linalg.solve(A, b)\n",
    "print(x)"
   ]
  },
  {
   "cell_type": "markdown",
   "metadata": {},
   "source": [
    "Найдем **число обусловленности** матрицы с помощью встроенной функции *condi*. Число обусловленности определяет, насколько погрешность входных данных может повлиять на решение системы"
   ]
  },
  {
   "cell_type": "code",
   "execution_count": 72,
   "metadata": {},
   "outputs": [
    {
     "name": "stdout",
     "output_type": "stream",
     "text": [
      "condition number for matrix A: 107.11394559222482\n"
     ]
    }
   ],
   "source": [
    "cnumb =  np.linalg.cond(A)\n",
    "print(\"condition number for matrix A:\", cnumb)"
   ]
  },
  {
   "cell_type": "markdown",
   "metadata": {},
   "source": [
    "Найдем вектор относительных погрешностей $d$. \n",
    "<br>$d^i$ = $\\frac{||x - x^i||}{||x||}$, где $x^i$ - решение системы $Ax^i$ = $b^i$, $b^i_j = b^i_j + eps$, если $j = i$. <br>$eps$ -- произвольная величина, возьмем $eps = 0.01$"
   ]
  },
  {
   "cell_type": "code",
   "execution_count": 73,
   "metadata": {},
   "outputs": [],
   "source": [
    "eps = 0.01\n",
    "def func(A, b): #функция, рассчитывающая вектор d\n",
    "    d = np.ones(N)\n",
    "    for i in range(N):\n",
    "        b_i = np.ones(N)\n",
    "        for j in range(N):\n",
    "            if (j == i):\n",
    "                b_i[j] = b[j]+eps\n",
    "            else:\n",
    "                b_i[j] = b[j]\n",
    "        x_i = np.linalg.solve(A, b_i)\n",
    "        d_i = np.linalg.norm(x-x_i, np.inf)/np.linalg.norm(x, np.inf)\n",
    "        d[i] = d_i\n",
    "    return d\n",
    "d = func(A,b)"
   ]
  },
  {
   "cell_type": "markdown",
   "metadata": {},
   "source": [
    "Найдем компоненту $b_m$ вектора $b$, которая оказывает наибольшее влияние на погрешность решения. Для этого прибавим некоторое значение $c$ (в данном случае, $c = 1$) к каждой из компонент вектора b и оценим норму вектора относительных погрешностей $d$. "
   ]
  },
  {
   "cell_type": "code",
   "execution_count": 74,
   "metadata": {},
   "outputs": [
    {
     "name": "stdout",
     "output_type": "stream",
     "text": [
      "нормы вектора d [0.2381263380355069, 1.3459192633409638, 4.4233925795946485, 3.1508986908595324]\n",
      "компонента вектора, весящая больше всего (при условии, что первая компонента имеет порядковый номер 0):  2\n"
     ]
    }
   ],
   "source": [
    "lst = []\n",
    "for i in range(N):\n",
    "    b_m = np.ones(N)*12\n",
    "    b_m[i] += 1\n",
    "    lst.append(np.linalg.norm(func(A, b_m)))\n",
    "\n",
    "print(\"нормы вектора d\",lst)\n",
    "max_value = max(lst)\n",
    "max_index = lst.index(max_value)\n",
    "print(\"компонента вектора, весящая больше всего (при условии, что первая компонента имеет порядковый номер 0): \",max_index)"
   ]
  },
  {
   "cell_type": "markdown",
   "metadata": {},
   "source": [
    "Оценим теоретически погрешность решения $x^m$ по формуле $\\delta(x^m)$ $\\leq$ $cond(A)\\delta(b^m)$. Вычислим $x^m$ - решение системы $Ax = b^m$"
   ]
  },
  {
   "cell_type": "code",
   "execution_count": 75,
   "metadata": {},
   "outputs": [
    {
     "name": "stdout",
     "output_type": "stream",
     "text": [
      "x =  [ 1.40707276 -0.0086662   0.02214058 -0.01514173]\n"
     ]
    }
   ],
   "source": [
    "b_m = np.ones(N)\n",
    "for j in range(N):\n",
    "    if (j == i):\n",
    "        b_m[j] = b[j]+eps\n",
    "    else:\n",
    "        b_m[j] = b[j]\n",
    "x_m = np.linalg.solve(A, b_m)\n",
    "print(\"x = \", x_m)"
   ]
  },
  {
   "cell_type": "code",
   "execution_count": 76,
   "metadata": {},
   "outputs": [
    {
     "name": "stdout",
     "output_type": "stream",
     "text": [
      "delta(x^m) <=  0.08926162132685211\n",
      "d_m =  0.02211652051451146\n"
     ]
    }
   ],
   "source": [
    "dlt_m = np.linalg.norm(b-b_m, np.inf)/np.linalg.norm(b, np.inf)\n",
    "\n",
    "print(\"delta(x^m) <= \",dlt_m*cnumb) \n",
    "print(\"d_m = \", d[max_index])"
   ]
  },
  {
   "cell_type": "markdown",
   "metadata": {},
   "source": [
    "Получилось, что значение практической погрешности выше, чем погрешность решения, оценненая по формуле выше (теоретическая). СЛАУ является плохо обусловленной, на что также указывает число обусловленности "
   ]
  },
  {
   "cell_type": "markdown",
   "metadata": {},
   "source": [
    "### **Задача 3.2.** \n",
    "Для системы уравнений $Ax = b$ из задачи 3.1 исследовать зависимость погрешности решения системы от погрешностей коэффициентов матрицы $A$ (аналогично задаче 3.1)."
   ]
  },
  {
   "cell_type": "markdown",
   "metadata": {},
   "source": [
    "Для нахождения элемента матрицы $A$, оказывающего максимальное влияние на погрешность решения системы, проведем аналогичные предыдущему пункту расчеты. Добавим к каждому из элементов некоторое фиксированное значение и вычислим погрешность $d$ "
   ]
  },
  {
   "cell_type": "code",
   "execution_count": 77,
   "metadata": {},
   "outputs": [
    {
     "name": "stdout",
     "output_type": "stream",
     "text": [
      "лист погрешностей d:  [0.3341654983528615, 0.02754263691647458, 0.029578822931526645, 0.027113264756128564, 1.8883752414467825, 0.037234850877163314, 0.0144150856037444, 0.17033791341190382, 6.554588964707342, 0.014113641872560364, 0.013293369841166133, 0.00894988402485142, 3.7961852449994375, 0.17921939881924884, 0.009021327953001592, 0.058690992267004846]\n"
     ]
    }
   ],
   "source": [
    "lst = []\n",
    "max_value = 0\n",
    "for i in range(N):\n",
    "    for j in range(N):\n",
    "        A_m = np.copy(A)\n",
    "        A_m[i][j]+=1\n",
    "        elem = np.linalg.norm(func(A_m, b))\n",
    "        lst.append(elem)\n",
    "        if (elem >= max(lst)):\n",
    "            max_value = elem\n",
    "print(\"лист погрешностей d: \", lst)"
   ]
  },
  {
   "cell_type": "markdown",
   "metadata": {},
   "source": [
    "Переформируем лист из погрешностей в матрицу размерности $4х4$ и найдем положение элемента $max$_$value$"
   ]
  },
  {
   "cell_type": "code",
   "execution_count": 78,
   "metadata": {},
   "outputs": [
    {
     "name": "stdout",
     "output_type": "stream",
     "text": [
      "matrix:  [[0.3341655  0.02754264 0.02957882 0.02711326]\n",
      " [1.88837524 0.03723485 0.01441509 0.17033791]\n",
      " [6.55458896 0.01411364 0.01329337 0.00894988]\n",
      " [3.79618524 0.1792194  0.00902133 0.05869099]]\n",
      "положение искомого элемента:  [2] [0]\n"
     ]
    }
   ],
   "source": [
    "eps = 0.01\n",
    "matrix = np.array(lst).reshape(4,4)\n",
    "print(\"matrix: \", matrix)\n",
    "(ind1, ind2) = np.where(matrix == max_value) \n",
    "print(\"положение искомого элемента: \", ind1, ind2)"
   ]
  },
  {
   "cell_type": "markdown",
   "metadata": {},
   "source": [
    "Составим возмущенную матрицу $A$_$max$"
   ]
  },
  {
   "cell_type": "code",
   "execution_count": 79,
   "metadata": {},
   "outputs": [
    {
     "name": "stdout",
     "output_type": "stream",
     "text": [
      "A* =  [[8.53846154e+00 8.53846154e+00 8.53846154e+00 8.53846154e+00]\n",
      " [8.53846154e+00 5.94422072e+00 2.07952400e+00 5.78843731e-01]\n",
      " [8.54846154e+00 2.07952400e+00 1.98838639e-01 4.07790548e-02]\n",
      " [8.53846154e+00 5.78843731e-01 4.07790548e-02 8.13169561e-03]]\n"
     ]
    }
   ],
   "source": [
    "A_max = np.copy(A)\n",
    "for i in range(N):\n",
    "    for j in range(N):\n",
    "        if (i == ind1) and (j == ind2):\n",
    "            A_max[i][j] += eps\n",
    "A_max = np.array(A_max)\n",
    "print(\"A* = \", A_max)"
   ]
  },
  {
   "cell_type": "markdown",
   "metadata": {},
   "source": [
    "Проведем оценку погрешности решения системы по формуле $\\delta(x^m)$ $\\leq$ $cond(A)\\delta(A^*)$"
   ]
  },
  {
   "cell_type": "code",
   "execution_count": 80,
   "metadata": {},
   "outputs": [
    {
     "name": "stdout",
     "output_type": "stream",
     "text": [
      "delta(x^m) <=  0.03136219127700209\n"
     ]
    }
   ],
   "source": [
    "dlt_A = np.linalg.norm(A-A_max, np.inf)/np.linalg.norm(A, np.inf)\n",
    "print(\"delta(x^m) <= \",dlt_A*cnumb) "
   ]
  },
  {
   "cell_type": "markdown",
   "metadata": {},
   "source": [
    "### Задача 3.5.3\n",
    "Решить систему уравнений $Ax = b$ порядка $n$ из задачи $3.5$ методом Холецкого. Вычислить число обусловленности матрицы $A$"
   ]
  },
  {
   "cell_type": "code",
   "execution_count": 81,
   "metadata": {},
   "outputs": [],
   "source": [
    "n = 30\n",
    "m = 9\n",
    "A3 = np.empty([n, n])\n",
    "b3 = [i**2 - 100 for i in range(n)]\n",
    "b3 = np.array(b3)\n",
    "for i in range(n):\n",
    "    for j in range(n):\n",
    "        if (i == j):\n",
    "            A3[i][j] = n + m**2 + j/m + i/n\n",
    "        else:\n",
    "            A3[i][j] = (i+j)/(m+n)"
   ]
  },
  {
   "cell_type": "markdown",
   "metadata": {},
   "source": [
    "Решим систему методом Холецкого. Для симметричных положительно определенных матриц этот метод позволяет найти LU-разложение $A = LL^T$, где $L$ - треугольная матрица"
   ]
  },
  {
   "cell_type": "code",
   "execution_count": 82,
   "metadata": {},
   "outputs": [],
   "source": [
    "L = np.linalg.cholesky(A3)\n",
    "razl  = np.dot(L, L.T.conj())\n",
    "#print(\"разложение матрицы А: \", razl)"
   ]
  },
  {
   "cell_type": "markdown",
   "metadata": {},
   "source": [
    "Найдем решение системы $Ly = b$"
   ]
  },
  {
   "cell_type": "code",
   "execution_count": 83,
   "metadata": {},
   "outputs": [
    {
     "name": "stdout",
     "output_type": "stream",
     "text": [
      "y =  [-9.49157996 -9.38836529 -9.08921376 -8.59486765 -7.90638557 -7.02513453\n",
      " -5.9527797  -4.69127212 -3.24283442 -1.60994474  0.20468083  2.19810722\n",
      "  4.3672004   6.70864834  9.21898248 11.8945997  14.73178441 17.72673054\n",
      " 20.87556334 24.17436063 27.61917352 31.20604626 34.93103517 38.79022664\n",
      " 42.77975382 46.8958123  51.13467438 55.49270219 59.96635936 64.55222151]\n"
     ]
    }
   ],
   "source": [
    "y = np.linalg.solve(L,b3)\n",
    "print(\"y = \",y)"
   ]
  },
  {
   "cell_type": "markdown",
   "metadata": {},
   "source": [
    "Найдем решение системы $L^Tx = y$"
   ]
  },
  {
   "cell_type": "code",
   "execution_count": 84,
   "metadata": {},
   "outputs": [
    {
     "name": "stdout",
     "output_type": "stream",
     "text": [
      "x =  [-1.15589719 -1.1546237  -1.13536451 -1.09816481 -1.04306961 -0.97012379\n",
      " -0.87937207 -0.77085901 -0.64462904 -0.50072644 -0.33919533 -0.16007969\n",
      "  0.03657663  0.25072996  0.48233674  0.73135359  0.99773724  1.28144457\n",
      "  1.58243263  1.90065857  2.23607973  2.58865354  2.9583376   3.34508965\n",
      "  3.74886756  4.16962934  4.60733314  5.06193725  5.53340009  6.02168022]\n"
     ]
    }
   ],
   "source": [
    "x3 = np.linalg.solve(L.T.conj(), y)\n",
    "print(\"x = \", x3)"
   ]
  },
  {
   "cell_type": "markdown",
   "metadata": {},
   "source": [
    "Сравним его с решением системы $Ax = b$. Полученные решения совпадают с некоторой точностью"
   ]
  },
  {
   "cell_type": "code",
   "execution_count": 85,
   "metadata": {
    "scrolled": true
   },
   "outputs": [
    {
     "name": "stdout",
     "output_type": "stream",
     "text": [
      "[-1.15589719 -1.1546237  -1.13536451 -1.09816481 -1.04306961 -0.97012379\n",
      " -0.87937207 -0.77085901 -0.64462904 -0.50072644 -0.33919533 -0.16007969\n",
      "  0.03657663  0.25072996  0.48233674  0.73135359  0.99773724  1.28144457\n",
      "  1.58243263  1.90065857  2.23607973  2.58865354  2.9583376   3.34508965\n",
      "  3.74886756  4.16962934  4.60733314  5.06193725  5.53340009  6.02168022]\n"
     ]
    }
   ],
   "source": [
    "new_x = np.linalg.solve(A3, b3)\n",
    "print(new_x)"
   ]
  }
 ],
 "metadata": {
  "kernelspec": {
   "display_name": "Python 3",
   "language": "python",
   "name": "python3"
  },
  "language_info": {
   "codemirror_mode": {
    "name": "ipython",
    "version": 3
   },
   "file_extension": ".py",
   "mimetype": "text/x-python",
   "name": "python",
   "nbconvert_exporter": "python",
   "pygments_lexer": "ipython3",
   "version": "3.6.5"
  }
 },
 "nbformat": 4,
 "nbformat_minor": 2
}
